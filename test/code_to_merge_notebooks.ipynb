{
 "cells": [
  {
   "cell_type": "code",
   "execution_count": 4,
   "id": "4e60143b-8120-4519-985c-23a1c95e2a03",
   "metadata": {},
   "outputs": [
    {
     "name": "stdout",
     "output_type": "stream",
     "text": [
      "Requirement already satisfied: nbmerge in c:\\users\\bretu\\anaconda3\\lib\\site-packages (0.0.4)\n",
      "Note: you may need to restart the kernel to use updated packages.\n"
     ]
    }
   ],
   "source": [
    "pip install nbmerge\n"
   ]
  },
  {
   "cell_type": "code",
   "execution_count": 3,
   "id": "8c82da2b-e0a4-4403-8e8c-7095e4ac437d",
   "metadata": {},
   "outputs": [
    {
     "name": "stdout",
     "output_type": "stream",
     "text": [
      "Notebooks merged successfully!\n"
     ]
    },
    {
     "name": "stderr",
     "output_type": "stream",
     "text": [
      "C:\\Users\\bretu\\anaconda3\\Lib\\site-packages\\nbformat\\__init__.py:129: DuplicateCellId: Non-unique cell id 'd3fb0f79-1844-4230-8b15-653a4d9c339d' detected. Corrected to '2eac35f5'.\n",
      "  validate(nb)\n",
      "C:\\Users\\bretu\\anaconda3\\Lib\\site-packages\\nbformat\\__init__.py:129: DuplicateCellId: Non-unique cell id '5ce5a708-4f8d-472d-9101-0ef108e53652' detected. Corrected to 'ff1f6a15'.\n",
      "  validate(nb)\n",
      "C:\\Users\\bretu\\anaconda3\\Lib\\site-packages\\nbformat\\__init__.py:129: DuplicateCellId: Non-unique cell id 'd0a23c1c-e38a-4425-83db-828c30bd0033' detected. Corrected to 'e8ab3c6f'.\n",
      "  validate(nb)\n"
     ]
    }
   ],
   "source": [
    "import nbformat\n",
    "\n",
    "# Listing all of the notebook file paths\n",
    "notebooks = ['notebook/eda/msoa_income.ipynb', 'notebook/eda/lsoa_crime.ipynb', 'notebook/eda/lsoa_crime.ipynb',\n",
    "            'notebook/poc/merge_poc.ipynb', 'notebook/poc/feature_poc.ipynb', 'notebook/modelling/knn_regression_model.ipynb', \n",
    "            'notebook/modelling/model_evaluation.ipynb', 'notebook/evaluation/final_model_results.ipynb']\n",
    "\n",
    "# Create an empty notebook structure\n",
    "merged_notebook = nbformat.v4.new_notebook()\n",
    "\n",
    "# Loop through each notebook and append its cells to the merged notebook\n",
    "for notebook in notebooks:\n",
    "    with open(notebook, 'r', encoding='utf-8') as f:\n",
    "        # Load the notebook content\n",
    "        nb = nbformat.read(f, as_version=4)\n",
    "        \n",
    "        # Append cells to the merged notebook\n",
    "        merged_notebook.cells.extend(nb.cells)\n",
    "\n",
    "# Save the merged notebook to a new file\n",
    "with open('merged_notebook.ipynb', 'w', encoding='utf-8') as f:\n",
    "    nbformat.write(merged_notebook, f)\n",
    "\n",
    "print(\"Notebooks merged successfully!\")\n"
   ]
  },
  {
   "cell_type": "code",
   "execution_count": null,
   "id": "1d57267c-d6c9-4658-aa9b-3cf248f1b0f6",
   "metadata": {},
   "outputs": [],
   "source": []
  }
 ],
 "metadata": {
  "kernelspec": {
   "display_name": "Python 3 (ipykernel)",
   "language": "python",
   "name": "python3"
  },
  "language_info": {
   "codemirror_mode": {
    "name": "ipython",
    "version": 3
   },
   "file_extension": ".py",
   "mimetype": "text/x-python",
   "name": "python",
   "nbconvert_exporter": "python",
   "pygments_lexer": "ipython3",
   "version": "3.11.7"
  }
 },
 "nbformat": 4,
 "nbformat_minor": 5
}
