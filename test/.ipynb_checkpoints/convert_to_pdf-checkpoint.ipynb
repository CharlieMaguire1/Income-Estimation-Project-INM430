{
 "cells": [
  {
   "cell_type": "code",
   "execution_count": 3,
   "id": "31ff5b68-e8d2-4248-a2c6-c97c0a00966f",
   "metadata": {},
   "outputs": [
    {
     "name": "stdout",
     "output_type": "stream",
     "text": [
      "Collecting latex\n",
      "  Downloading latex-0.7.0.tar.gz (6.5 kB)\n",
      "  Preparing metadata (setup.py): started\n",
      "  Preparing metadata (setup.py): finished with status 'done'\n",
      "Collecting tempdir (from latex)\n",
      "  Downloading tempdir-0.7.1.tar.gz (5.9 kB)\n",
      "  Preparing metadata (setup.py): started\n",
      "  Preparing metadata (setup.py): finished with status 'done'\n",
      "Collecting data (from latex)\n",
      "  Downloading data-0.4.tar.gz (7.0 kB)\n",
      "  Preparing metadata (setup.py): started\n",
      "  Preparing metadata (setup.py): finished with status 'done'\n",
      "Requirement already satisfied: future in c:\\users\\bretu\\anaconda3\\lib\\site-packages (from latex) (0.18.3)\n",
      "Collecting shutilwhich (from latex)\n",
      "  Downloading shutilwhich-1.1.0.tar.gz (2.3 kB)\n",
      "  Preparing metadata (setup.py): started\n",
      "  Preparing metadata (setup.py): finished with status 'done'\n",
      "Requirement already satisfied: six in c:\\users\\bretu\\anaconda3\\lib\\site-packages (from data->latex) (1.16.0)\n",
      "Requirement already satisfied: decorator in c:\\users\\bretu\\anaconda3\\lib\\site-packages (from data->latex) (5.1.1)\n",
      "Collecting funcsigs (from data->latex)\n",
      "  Downloading funcsigs-1.0.2-py2.py3-none-any.whl.metadata (14 kB)\n",
      "Downloading funcsigs-1.0.2-py2.py3-none-any.whl (17 kB)\n",
      "Building wheels for collected packages: latex, data, shutilwhich, tempdir\n",
      "  Building wheel for latex (setup.py): started\n",
      "  Building wheel for latex (setup.py): finished with status 'done'\n",
      "  Created wheel for latex: filename=latex-0.7.0-py3-none-any.whl size=7611 sha256=ca2639e4634ec2d06a8a9bf32b3da5965d3be0fb58c9d365db6350ae62b6e47b\n",
      "  Stored in directory: c:\\users\\bretu\\appdata\\local\\pip\\cache\\wheels\\e5\\b3\\95\\f4b45b5116d4585893cdcb2ac7c07614a59fb047c754c4651a\n",
      "  Building wheel for data (setup.py): started\n",
      "  Building wheel for data (setup.py): finished with status 'done'\n",
      "  Created wheel for data: filename=data-0.4-py3-none-any.whl size=7257 sha256=34d9e35ec25ce29a4b203d243e819b80f37580c4593dff6041fd75ef2a52e99f\n",
      "  Stored in directory: c:\\users\\bretu\\appdata\\local\\pip\\cache\\wheels\\d2\\d3\\10\\d5fe9bc9dcb197ea289baccca92a25f2f95135235a92ca1b11\n",
      "  Building wheel for shutilwhich (setup.py): started\n",
      "  Building wheel for shutilwhich (setup.py): finished with status 'done'\n",
      "  Created wheel for shutilwhich: filename=shutilwhich-1.1.0-py3-none-any.whl size=2780 sha256=42af3a3adb36b286e9198f2fbd89e36a6bbee3ca03cbd1587c0b81b70ceb5c94\n",
      "  Stored in directory: c:\\users\\bretu\\appdata\\local\\pip\\cache\\wheels\\6a\\49\\7a\\3997889a5643ddb4a1d21692c6916fd2fc482965211d9a3ca5\n",
      "  Building wheel for tempdir (setup.py): started\n",
      "  Building wheel for tempdir (setup.py): finished with status 'done'\n",
      "  Created wheel for tempdir: filename=tempdir-0.7.1-py3-none-any.whl size=2206 sha256=093f2bc327e8ee7bbac8e5c184579e39206cd46a1f78ebdb195f1f4179c5b4e6\n",
      "  Stored in directory: c:\\users\\bretu\\appdata\\local\\pip\\cache\\wheels\\12\\67\\0b\\519393cca63cd89cea554a371cc88a4c439c2d31804e9a9ed7\n",
      "Successfully built latex data shutilwhich tempdir\n",
      "Installing collected packages: tempdir, shutilwhich, funcsigs, data, latex\n",
      "Successfully installed data-0.4 funcsigs-1.0.2 latex-0.7.0 shutilwhich-1.1.0 tempdir-0.7.1\n"
     ]
    }
   ],
   "source": [
    "!pip install latex"
   ]
  },
  {
   "cell_type": "code",
   "execution_count": 11,
   "id": "d8ce658f-fe6e-48ae-9403-896141260ad7",
   "metadata": {},
   "outputs": [
    {
     "name": "stdout",
     "output_type": "stream",
     "text": [
      "Requirement already satisfied: nbconvert in c:\\users\\bretu\\anaconda3\\lib\\site-packages (7.10.0)\n",
      "Requirement already satisfied: beautifulsoup4 in c:\\users\\bretu\\anaconda3\\lib\\site-packages (from nbconvert) (4.12.2)\n",
      "Requirement already satisfied: bleach!=5.0.0 in c:\\users\\bretu\\anaconda3\\lib\\site-packages (from nbconvert) (4.1.0)\n",
      "Requirement already satisfied: defusedxml in c:\\users\\bretu\\anaconda3\\lib\\site-packages (from nbconvert) (0.7.1)\n",
      "Requirement already satisfied: jinja2>=3.0 in c:\\users\\bretu\\anaconda3\\lib\\site-packages (from nbconvert) (3.1.3)\n",
      "Requirement already satisfied: jupyter-core>=4.7 in c:\\users\\bretu\\anaconda3\\lib\\site-packages (from nbconvert) (5.5.0)\n",
      "Requirement already satisfied: jupyterlab-pygments in c:\\users\\bretu\\anaconda3\\lib\\site-packages (from nbconvert) (0.1.2)\n",
      "Requirement already satisfied: markupsafe>=2.0 in c:\\users\\bretu\\anaconda3\\lib\\site-packages (from nbconvert) (3.0.2)\n",
      "Requirement already satisfied: mistune<4,>=2.0.3 in c:\\users\\bretu\\anaconda3\\lib\\site-packages (from nbconvert) (2.0.4)\n",
      "Requirement already satisfied: nbclient>=0.5.0 in c:\\users\\bretu\\anaconda3\\lib\\site-packages (from nbconvert) (0.8.0)\n",
      "Requirement already satisfied: nbformat>=5.7 in c:\\users\\bretu\\anaconda3\\lib\\site-packages (from nbconvert) (5.9.2)\n",
      "Requirement already satisfied: packaging in c:\\users\\bretu\\anaconda3\\lib\\site-packages (from nbconvert) (23.0)\n",
      "Requirement already satisfied: pandocfilters>=1.4.1 in c:\\users\\bretu\\anaconda3\\lib\\site-packages (from nbconvert) (1.5.0)\n",
      "Requirement already satisfied: pygments>=2.4.1 in c:\\users\\bretu\\anaconda3\\lib\\site-packages (from nbconvert) (2.18.0)\n",
      "Requirement already satisfied: tinycss2 in c:\\users\\bretu\\anaconda3\\lib\\site-packages (from nbconvert) (1.4.0)\n",
      "Requirement already satisfied: traitlets>=5.1 in c:\\users\\bretu\\anaconda3\\lib\\site-packages (from nbconvert) (5.7.1)\n",
      "Requirement already satisfied: six>=1.9.0 in c:\\users\\bretu\\anaconda3\\lib\\site-packages (from bleach!=5.0.0->nbconvert) (1.16.0)\n",
      "Requirement already satisfied: webencodings in c:\\users\\bretu\\anaconda3\\lib\\site-packages (from bleach!=5.0.0->nbconvert) (0.5.1)\n",
      "Requirement already satisfied: platformdirs>=2.5 in c:\\users\\bretu\\anaconda3\\lib\\site-packages (from jupyter-core>=4.7->nbconvert) (3.10.0)\n",
      "Requirement already satisfied: pywin32>=300 in c:\\users\\bretu\\anaconda3\\lib\\site-packages (from jupyter-core>=4.7->nbconvert) (305.1)\n",
      "Requirement already satisfied: jupyter-client>=6.1.12 in c:\\users\\bretu\\anaconda3\\lib\\site-packages (from nbclient>=0.5.0->nbconvert) (8.6.0)\n",
      "Requirement already satisfied: fastjsonschema in c:\\users\\bretu\\anaconda3\\lib\\site-packages (from nbformat>=5.7->nbconvert) (2.16.2)\n",
      "Requirement already satisfied: jsonschema>=2.6 in c:\\users\\bretu\\anaconda3\\lib\\site-packages (from nbformat>=5.7->nbconvert) (4.19.2)\n",
      "Requirement already satisfied: soupsieve>1.2 in c:\\users\\bretu\\anaconda3\\lib\\site-packages (from beautifulsoup4->nbconvert) (2.5)\n",
      "Requirement already satisfied: attrs>=22.2.0 in c:\\users\\bretu\\anaconda3\\lib\\site-packages (from jsonschema>=2.6->nbformat>=5.7->nbconvert) (24.2.0)\n",
      "Requirement already satisfied: jsonschema-specifications>=2023.03.6 in c:\\users\\bretu\\anaconda3\\lib\\site-packages (from jsonschema>=2.6->nbformat>=5.7->nbconvert) (2023.7.1)\n",
      "Requirement already satisfied: referencing>=0.28.4 in c:\\users\\bretu\\anaconda3\\lib\\site-packages (from jsonschema>=2.6->nbformat>=5.7->nbconvert) (0.30.2)\n",
      "Requirement already satisfied: rpds-py>=0.7.1 in c:\\users\\bretu\\anaconda3\\lib\\site-packages (from jsonschema>=2.6->nbformat>=5.7->nbconvert) (0.21.0)\n",
      "Requirement already satisfied: python-dateutil>=2.8.2 in c:\\users\\bretu\\anaconda3\\lib\\site-packages (from jupyter-client>=6.1.12->nbclient>=0.5.0->nbconvert) (2.9.0.post0)\n",
      "Requirement already satisfied: pyzmq>=23.0 in c:\\users\\bretu\\anaconda3\\lib\\site-packages (from jupyter-client>=6.1.12->nbclient>=0.5.0->nbconvert) (25.1.2)\n",
      "Requirement already satisfied: tornado>=6.2 in c:\\users\\bretu\\anaconda3\\lib\\site-packages (from jupyter-client>=6.1.12->nbclient>=0.5.0->nbconvert) (6.4.2)\n"
     ]
    }
   ],
   "source": [
    "!pip install nbconvert"
   ]
  },
  {
   "cell_type": "code",
   "execution_count": 24,
   "id": "85ef3391-0ef3-4ef4-956c-87c8079d3a74",
   "metadata": {},
   "outputs": [
    {
     "name": "stderr",
     "output_type": "stream",
     "text": [
      "[NbConvertApp] Converting notebook merge_poc.ipynb to pdf\n",
      "[NbConvertApp] ERROR | Error while converting 'merge_poc.ipynb'\n",
      "Traceback (most recent call last):\n",
      "  File \"C:\\Users\\bretu\\anaconda3\\Lib\\site-packages\\nbconvert\\nbconvertapp.py\", line 479, in export_single_notebook\n",
      "    output, resources = self.exporter.from_filename(\n",
      "                        ^^^^^^^^^^^^^^^^^^^^^^^^^^^^\n",
      "  File \"C:\\Users\\bretu\\anaconda3\\Lib\\site-packages\\nbconvert\\exporters\\templateexporter.py\", line 389, in from_filename\n",
      "    return super().from_filename(filename, resources, **kw)  # type:ignore[return-value]\n",
      "           ^^^^^^^^^^^^^^^^^^^^^^^^^^^^^^^^^^^^^^^^^^^^^^^^\n",
      "  File \"C:\\Users\\bretu\\anaconda3\\Lib\\site-packages\\nbconvert\\exporters\\exporter.py\", line 203, in from_filename\n",
      "    return self.from_file(f, resources=resources, **kw)\n",
      "           ^^^^^^^^^^^^^^^^^^^^^^^^^^^^^^^^^^^^^^^^^^^^\n",
      "  File \"C:\\Users\\bretu\\anaconda3\\Lib\\site-packages\\nbconvert\\exporters\\templateexporter.py\", line 395, in from_file\n",
      "    return super().from_file(file_stream, resources, **kw)  # type:ignore[return-value]\n",
      "           ^^^^^^^^^^^^^^^^^^^^^^^^^^^^^^^^^^^^^^^^^^^^^^^\n",
      "  File \"C:\\Users\\bretu\\anaconda3\\Lib\\site-packages\\nbconvert\\exporters\\exporter.py\", line 222, in from_file\n",
      "    return self.from_notebook_node(\n",
      "           ^^^^^^^^^^^^^^^^^^^^^^^^\n",
      "  File \"C:\\Users\\bretu\\anaconda3\\Lib\\site-packages\\nbconvert\\exporters\\pdf.py\", line 187, in from_notebook_node\n",
      "    latex, resources = super().from_notebook_node(nb, resources=resources, **kw)\n",
      "                       ^^^^^^^^^^^^^^^^^^^^^^^^^^^^^^^^^^^^^^^^^^^^^^^^^^^^^^^^^\n",
      "  File \"C:\\Users\\bretu\\anaconda3\\Lib\\site-packages\\nbconvert\\exporters\\latex.py\", line 92, in from_notebook_node\n",
      "    return super().from_notebook_node(nb, resources, **kw)\n",
      "           ^^^^^^^^^^^^^^^^^^^^^^^^^^^^^^^^^^^^^^^^^^^^^^^\n",
      "  File \"C:\\Users\\bretu\\anaconda3\\Lib\\site-packages\\nbconvert\\exporters\\templateexporter.py\", line 427, in from_notebook_node\n",
      "    output = self.template.render(nb=nb_copy, resources=resources)\n",
      "             ^^^^^^^^^^^^^^^^^^^^^^^^^^^^^^^^^^^^^^^^^^^^^^^^^^^^^\n",
      "  File \"C:\\Users\\bretu\\anaconda3\\Lib\\site-packages\\jinja2\\environment.py\", line 1301, in render\n",
      "    self.environment.handle_exception()\n",
      "  File \"C:\\Users\\bretu\\anaconda3\\Lib\\site-packages\\jinja2\\environment.py\", line 936, in handle_exception\n",
      "    raise rewrite_traceback_stack(source=source)\n",
      "  File \"C:\\Users\\bretu\\anaconda3\\share\\jupyter\\nbconvert\\templates\\latex\\index.tex.j2\", line 8, in top-level template code\n",
      "    ((* extends cell_style *))\n",
      "    ^^^^^^^^^^^^^^^^^^^^^^^^^\n",
      "  File \"C:\\Users\\bretu\\anaconda3\\share\\jupyter\\nbconvert\\templates\\latex\\style_jupyter.tex.j2\", line 176, in top-level template code\n",
      "    \\prompt{(((prompt)))}{(((prompt_color)))}{(((execution_count)))}{(((extra_space)))}\n",
      "    ^^^^^^^^^^^^^^^^^^^^^^^^^\n",
      "  File \"C:\\Users\\bretu\\anaconda3\\share\\jupyter\\nbconvert\\templates\\latex\\base.tex.j2\", line 7, in top-level template code\n",
      "    ((*- extends 'document_contents.tex.j2' -*))\n",
      "    ^^^^^^^^^^^^^^^^^^^^^^^^^\n",
      "  File \"C:\\Users\\bretu\\anaconda3\\share\\jupyter\\nbconvert\\templates\\latex\\document_contents.tex.j2\", line 51, in top-level template code\n",
      "    ((*- block figure scoped -*))\n",
      "    ^^^^^^^^^^^^^^^^^^^^^^^^^\n",
      "  File \"C:\\Users\\bretu\\anaconda3\\share\\jupyter\\nbconvert\\templates\\latex\\display_priority.j2\", line 5, in top-level template code\n",
      "    ((*- extends 'null.j2' -*))\n",
      "    ^^^^^^^^^^^^^^^^^^^^^^^^^\n",
      "  File \"C:\\Users\\bretu\\anaconda3\\share\\jupyter\\nbconvert\\templates\\latex\\null.j2\", line 30, in top-level template code\n",
      "    ((*- block body -*))\n",
      "  File \"C:\\Users\\bretu\\anaconda3\\share\\jupyter\\nbconvert\\templates\\latex\\base.tex.j2\", line 220, in block 'body'\n",
      "    ((( super() )))\n",
      "  File \"C:\\Users\\bretu\\anaconda3\\share\\jupyter\\nbconvert\\templates\\latex\\null.j2\", line 32, in block 'body'\n",
      "    ((*- block any_cell scoped -*))\n",
      "    ^^^^^^^^^^^^^^^^^^^^^^^^^\n",
      "  File \"C:\\Users\\bretu\\anaconda3\\share\\jupyter\\nbconvert\\templates\\latex\\null.j2\", line 85, in block 'any_cell'\n",
      "    ((*- block markdowncell scoped-*)) ((*- endblock markdowncell -*))\n",
      "    ^^^^^^^^^^^^^^^^^^^^^^^^^\n",
      "  File \"C:\\Users\\bretu\\anaconda3\\share\\jupyter\\nbconvert\\templates\\latex\\document_contents.tex.j2\", line 68, in block 'markdowncell'\n",
      "    ((( cell.source | citation2latex | strip_files_prefix | convert_pandoc('markdown+tex_math_double_backslash', 'json',extra_args=[]) | resolve_references | convert_explicitly_relative_paths | convert_pandoc('json','latex'))))\n",
      "    ^^^^^^^^^^^^^^^^^^^^^^^^^\n",
      "  File \"C:\\Users\\bretu\\anaconda3\\Lib\\site-packages\\nbconvert\\filters\\pandoc.py\", line 35, in convert_pandoc\n",
      "    return pandoc(source, from_format, to_format, extra_args=extra_args)\n",
      "           ^^^^^^^^^^^^^^^^^^^^^^^^^^^^^^^^^^^^^^^^^^^^^^^^^^^^^^^^^^^^^\n",
      "  File \"C:\\Users\\bretu\\anaconda3\\Lib\\site-packages\\nbconvert\\utils\\pandoc.py\", line 51, in pandoc\n",
      "    check_pandoc_version()\n",
      "  File \"C:\\Users\\bretu\\anaconda3\\Lib\\site-packages\\nbconvert\\utils\\pandoc.py\", line 99, in check_pandoc_version\n",
      "    v = get_pandoc_version()\n",
      "        ^^^^^^^^^^^^^^^^^^^^\n",
      "  File \"C:\\Users\\bretu\\anaconda3\\Lib\\site-packages\\nbconvert\\utils\\pandoc.py\", line 76, in get_pandoc_version\n",
      "    raise PandocMissing()\n",
      "nbconvert.utils.pandoc.PandocMissing: Pandoc wasn't found.\n",
      "Please check that pandoc is installed:\n",
      "https://pandoc.org/installing.html\n"
     ]
    }
   ],
   "source": [
    "!jupyter nbconvert merge_poc.ipynb --to pdf\n",
    "\n"
   ]
  },
  {
   "cell_type": "code",
   "execution_count": 23,
   "id": "0d29482c-3266-4f63-b32f-376546763404",
   "metadata": {},
   "outputs": [
    {
     "name": "stdout",
     "output_type": "stream",
     "text": [
      "Collecting pandoc\n",
      "  Downloading pandoc-2.4.tar.gz (34 kB)\n",
      "  Preparing metadata (setup.py): started\n",
      "  Preparing metadata (setup.py): finished with status 'done'\n",
      "Collecting plumbum (from pandoc)\n",
      "  Downloading plumbum-1.9.0-py3-none-any.whl.metadata (10 kB)\n",
      "Requirement already satisfied: ply in c:\\users\\bretu\\anaconda3\\lib\\site-packages (from pandoc) (3.11)\n",
      "Requirement already satisfied: pywin32 in c:\\users\\bretu\\anaconda3\\lib\\site-packages (from plumbum->pandoc) (305.1)\n",
      "Downloading plumbum-1.9.0-py3-none-any.whl (127 kB)\n",
      "   ---------------------------------------- 0.0/128.0 kB ? eta -:--:--\n",
      "   ------------------- -------------------- 61.4/128.0 kB 1.7 MB/s eta 0:00:01\n",
      "   ---------------------------------------- 128.0/128.0 kB 2.6 MB/s eta 0:00:00\n",
      "Building wheels for collected packages: pandoc\n",
      "  Building wheel for pandoc (setup.py): started\n",
      "  Building wheel for pandoc (setup.py): finished with status 'done'\n",
      "  Created wheel for pandoc: filename=pandoc-2.4-py3-none-any.whl size=34822 sha256=dddde56641d684692252f5eb82fe7f6744502038e460e3f71acfb84a63ce8d9c\n",
      "  Stored in directory: c:\\users\\bretu\\appdata\\local\\pip\\cache\\wheels\\4f\\d7\\32\\c6c9b7b05e852e920fd72174487be3a0f18e633a7adcc303be\n",
      "Successfully built pandoc\n",
      "Installing collected packages: plumbum, pandoc\n",
      "Successfully installed pandoc-2.4 plumbum-1.9.0\n"
     ]
    }
   ],
   "source": [
    "!pip install pandoc"
   ]
  },
  {
   "cell_type": "code",
   "execution_count": null,
   "id": "cb46d454-e706-4152-9d87-708125ae9834",
   "metadata": {},
   "outputs": [],
   "source": []
  }
 ],
 "metadata": {
  "kernelspec": {
   "display_name": "Python 3 (ipykernel)",
   "language": "python",
   "name": "python3"
  },
  "language_info": {
   "codemirror_mode": {
    "name": "ipython",
    "version": 3
   },
   "file_extension": ".py",
   "mimetype": "text/x-python",
   "name": "python",
   "nbconvert_exporter": "python",
   "pygments_lexer": "ipython3",
   "version": "3.11.7"
  }
 },
 "nbformat": 4,
 "nbformat_minor": 5
}
