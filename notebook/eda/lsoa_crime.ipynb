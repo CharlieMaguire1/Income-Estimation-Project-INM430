{
 "cells": [
  {
   "cell_type": "markdown",
   "id": "d3fb0f79-1844-4230-8b15-653a4d9c339d",
   "metadata": {},
   "source": [
    "## The Preprocessing/EDA of LSOA crime data by the London Metropolitan Police\n",
    "\n",
    "Data source: https://data.london.gov.uk/dataset/recorded_crime_summary"
   ]
  },
  {
   "cell_type": "code",
   "execution_count": null,
   "id": "b5a91482-fb9b-442c-8bae-395e17d519d4",
   "metadata": {},
   "outputs": [],
   "source": []
  }
 ],
 "metadata": {
  "kernelspec": {
   "display_name": "Python 3 (ipykernel)",
   "language": "python",
   "name": "python3"
  },
  "language_info": {
   "codemirror_mode": {
    "name": "ipython",
    "version": 3
   },
   "file_extension": ".py",
   "mimetype": "text/x-python",
   "name": "python",
   "nbconvert_exporter": "python",
   "pygments_lexer": "ipython3",
   "version": "3.11.7"
  }
 },
 "nbformat": 4,
 "nbformat_minor": 5
}
