{
 "cells": [
  {
   "cell_type": "markdown",
   "id": "d3fb0f79-1844-4230-8b15-653a4d9c339d",
   "metadata": {},
   "source": [
    "## The Preprocessing/EDA of LSOA crime data by the London Metropolitan Police\n",
    "\n",
    "Data source: https://data.london.gov.uk/dataset/recorded_crime_summary"
   ]
  },
  {
   "cell_type": "markdown",
   "id": "5ce5a708-4f8d-472d-9101-0ef108e53652",
   "metadata": {},
   "source": [
    "I was going to use this data for analysis, but I realised that the LSOA Census Data has the same data. I have compared the values of their respective features, and they match, but a few have small differences. I think the London Metropolitan Police source is more accurate. However, the differences are very small, and due to some of the other limitations in the analysis, it would be feasible to omit this dataset. Therefore, I'll leave this in my final notebook, just in case it is needed for further analysis. "
   ]
  },
  {
   "cell_type": "code",
   "execution_count": null,
   "id": "d0a23c1c-e38a-4425-83db-828c30bd0033",
   "metadata": {},
   "outputs": [],
   "source": []
  }
 ],
 "metadata": {
  "kernelspec": {
   "display_name": "Python 3 (ipykernel)",
   "language": "python",
   "name": "python3"
  },
  "language_info": {
   "codemirror_mode": {
    "name": "ipython",
    "version": 3
   },
   "file_extension": ".py",
   "mimetype": "text/x-python",
   "name": "python",
   "nbconvert_exporter": "python",
   "pygments_lexer": "ipython3",
   "version": "3.11.7"
  }
 },
 "nbformat": 4,
 "nbformat_minor": 5
}
