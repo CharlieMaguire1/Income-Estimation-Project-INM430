{
 "cells": [
  {
   "attachments": {},
   "cell_type": "markdown",
   "id": "0e1795b9-c83b-46a8-b541-842f53122e28",
   "metadata": {},
   "source": [
    "# Preprocessing/EDA for Small area income estimates for middle layer super output areas, England & Wales, 2011/12\n",
    "\n",
    "Dataset link: https://www.ons.gov.uk/employmentandlabourmarket/peopleinwork/earningsandworkinghours/datasets/smallareaincomeestimatesformiddlelayersuperoutputareasenglandandwales"
   ]
  },
  {
   "cell_type": "markdown",
   "id": "f7edc13d-3c5e-45f3-8e4d-74a494f011b8",
   "metadata": {},
   "source": [
    "1.1 Loading the dataset from an .xlsx file to a Pandas DataFrame, then displaying the name of the sheets that have relevant information (i.e. variables/potential features)"
   ]
  },
  {
   "cell_type": "code",
   "execution_count": 5,
   "id": "4754c1f5-ad33-45cb-b9a3-ac88d5cde5ba",
   "metadata": {},
   "outputs": [
    {
     "name": "stdout",
     "output_type": "stream",
     "text": [
      "The sheet names/tables for MSOA Income Estimate data: ['Contents', 'Metadata', 'Terms and Conditions', 'Total weekly income', 'Net weekly income', 'Net income before housing costs', 'Net income after housing costs', 'Related Publications']\n"
     ]
    }
   ],
   "source": [
    "import pandas as pd\n",
    "\n",
    "# Loading the Excel file for MSOA Income Estimates from ONS\n",
    "file_path = \"../../data/raw/msoa_income.xlsx\"\n",
    "\n",
    "# Retrieving and displaying the sheet names\n",
    "sheets = pd.ExcelFile(file_path).sheet_names\n",
    "print(\"The sheet names/tables for MSOA Income Estimate data:\", sheets)"
   ]
  },
  {
   "cell_type": "markdown",
   "id": "2e1197f1-e946-4409-b825-684a4df48433",
   "metadata": {},
   "source": [
    "1.2 Defining the Sheets 4 to 7 as DataFrames. The other sheets are irrelevant for the cleaning and analysis processes."
   ]
  },
  {
   "cell_type": "code",
   "execution_count": 19,
   "id": "48a429b8-6b60-4223-a67d-1fa3f93fd887",
   "metadata": {},
   "outputs": [
    {
     "name": "stdout",
     "output_type": "stream",
     "text": [
      "Column Information Total weekly income:\n",
      "MSOA code                     0\n",
      "MSOA name                     0\n",
      "Local authority code          0\n",
      "Local authority name          0\n",
      "Region code                   0\n",
      "Region name                   0\n",
      "Total weekly income (£)       0\n",
      "Upper confidence limit (£)    0\n",
      "Lower confidence limit (£)    0\n",
      "Confidence interval (£)       0\n",
      "dtype: int64\n",
      "----------------------------------------\n",
      "Column Information Net weekly income:\n",
      "MSOA code                     0\n",
      "MSOA name                     0\n",
      "Local authority code          0\n",
      "Local authority name          0\n",
      "Region code                   0\n",
      "Region name                   0\n",
      "Net weekly income (£)         0\n",
      "Upper confidence limit (£)    0\n",
      "Lower confidence limit (£)    0\n",
      "Confidence interval (£)       0\n",
      "dtype: int64\n",
      "----------------------------------------\n",
      "Column Information Net weekly income:\n",
      "MSOA code                     0\n",
      "MSOA name                     0\n",
      "Local authority code          0\n",
      "Local authority name          0\n",
      "Region code                   0\n",
      "Region name                   0\n",
      "Net weekly income (£)         0\n",
      "Upper confidence limit (£)    0\n",
      "Lower confidence limit (£)    0\n",
      "Confidence interval (£)       0\n",
      "dtype: int64\n",
      "----------------------------------------\n",
      "Column Information Net income before housing costs:\n",
      "MSOA code                              0\n",
      "MSOA name                              0\n",
      "Local authority code                   0\n",
      "Local authority name                   0\n",
      "Region code                            0\n",
      "Region name                            0\n",
      "Net income before housing costs (£)    0\n",
      "Upper confidence limit (£)             0\n",
      "Lower confidence limit (£)             0\n",
      "Confidence interval (£)                0\n",
      "dtype: int64\n",
      "----------------------------------------\n",
      "Column Information Net income after housing costs:\n",
      "MSOA code                             0\n",
      "MSOA name                             0\n",
      "Local authority code                  0\n",
      "Local authority name                  0\n",
      "Region code                           0\n",
      "Region name                           0\n",
      "Net income after housing costs (£)    0\n",
      "Upper confidence limit (£)            0\n",
      "Lower confidence limit (£)            0\n",
      "Confidence interval (£)               0\n",
      "dtype: int64\n",
      "----------------------------------------\n"
     ]
    }
   ],
   "source": [
    "# Defining the relevant sheets now the names are knowm\n",
    "relevant_sheets = [\"Total weekly income\", \"Net weekly income\", \"Net weekly income\", \n",
    "\"Net income before housing costs\", \"Net income after housing costs\"]\n",
    "\n",
    "# Loading the relevant sheets and skipping the first three rows\n",
    "# Then make the new first row as the header (column names)\n",
    "adjust_data = {}\n",
    "for sheet in relevant_sheets:\n",
    "    msoa_income_data = pd.read_excel(file_path, sheet_name = sheet, header = 4)\n",
    "\n",
    "    # Removing the last row as it is irrelevant\n",
    "    msoa_income_data = msoa_income_data[:-1]\n",
    "    \n",
    "    # Storing the adjusted DataFrame\n",
    "    adjust_data[sheet] = msoa_income_data\n",
    "    \n",
    "# Displaying the number of missing values each sheet\n",
    "    print(f\"Column Information {sheet}:\")\n",
    "    print(msoa_income_data.isnull().sum())\n",
    "    print(\"-\" * 40)"
   ]
  },
  {
   "cell_type": "markdown",
   "id": "48415e14-40e7-4c19-8557-b21f7f87cb0d",
   "metadata": {},
   "source": [
    "There are no missing values "
   ]
  }
 ],
 "metadata": {
  "kernelspec": {
   "display_name": "Python 3 (ipykernel)",
   "language": "python",
   "name": "python3"
  },
  "language_info": {
   "codemirror_mode": {
    "name": "ipython",
    "version": 3
   },
   "file_extension": ".py",
   "mimetype": "text/x-python",
   "name": "python",
   "nbconvert_exporter": "python",
   "pygments_lexer": "ipython3",
   "version": "3.11.7"
  }
 },
 "nbformat": 4,
 "nbformat_minor": 5
}
