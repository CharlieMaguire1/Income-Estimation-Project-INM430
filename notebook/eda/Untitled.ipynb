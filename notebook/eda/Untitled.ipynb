{
 "cells": [
  {
   "cell_type": "code",
   "execution_count": 1,
   "id": "3b0ed22b-092e-4663-b688-2db2b5cec119",
   "metadata": {},
   "outputs": [
    {
     "name": "stdout",
     "output_type": "stream",
     "text": [
      "Requirement already satisfied: nbformat in c:\\users\\bretu\\anaconda3\\lib\\site-packages (5.9.2)\n",
      "Requirement already satisfied: fastjsonschema in c:\\users\\bretu\\anaconda3\\lib\\site-packages (from nbformat) (2.16.2)\n",
      "Requirement already satisfied: jsonschema>=2.6 in c:\\users\\bretu\\anaconda3\\lib\\site-packages (from nbformat) (4.19.2)\n",
      "Requirement already satisfied: jupyter-core in c:\\users\\bretu\\anaconda3\\lib\\site-packages (from nbformat) (5.5.0)\n",
      "Requirement already satisfied: traitlets>=5.1 in c:\\users\\bretu\\anaconda3\\lib\\site-packages (from nbformat) (5.7.1)\n",
      "Requirement already satisfied: attrs>=22.2.0 in c:\\users\\bretu\\anaconda3\\lib\\site-packages (from jsonschema>=2.6->nbformat) (24.2.0)\n",
      "Requirement already satisfied: jsonschema-specifications>=2023.03.6 in c:\\users\\bretu\\anaconda3\\lib\\site-packages (from jsonschema>=2.6->nbformat) (2023.7.1)\n",
      "Requirement already satisfied: referencing>=0.28.4 in c:\\users\\bretu\\anaconda3\\lib\\site-packages (from jsonschema>=2.6->nbformat) (0.30.2)\n",
      "Requirement already satisfied: rpds-py>=0.7.1 in c:\\users\\bretu\\anaconda3\\lib\\site-packages (from jsonschema>=2.6->nbformat) (0.21.0)\n",
      "Requirement already satisfied: platformdirs>=2.5 in c:\\users\\bretu\\anaconda3\\lib\\site-packages (from jupyter-core->nbformat) (3.10.0)\n",
      "Requirement already satisfied: pywin32>=300 in c:\\users\\bretu\\anaconda3\\lib\\site-packages (from jupyter-core->nbformat) (305.1)\n",
      "Note: you may need to restart the kernel to use updated packages.\n"
     ]
    }
   ],
   "source": [
    "pip install nbformat"
   ]
  },
  {
   "cell_type": "code",
   "execution_count": 7,
   "id": "dc1c7461-964f-4b22-aa4b-57803edbbd77",
   "metadata": {},
   "outputs": [
    {
     "name": "stdout",
     "output_type": "stream",
     "text": [
      "Merged notebook saved as ../../notebook/merged_notebook.ipynb\n"
     ]
    }
   ],
   "source": [
    "import nbformat\n",
    "\n",
    "# List of notebooks to merge\n",
    "notebooks = [\n",
    "    'msoa_income.ipynb',  # Replace with the path to your first notebook\n",
    "    'lsoa_crime.ipynb',  # Replace with the path to your second notebook\n",
    "    'lsoa_census.ipynb', # Add more notebooks as needed\n",
    "    '../poc/merge_poc.ipynb',\n",
    "    '../poc/feature_poc.ipynb',\n",
    "]\n",
    "\n",
    "# Output notebook file\n",
    "output_notebook = '../../notebook/merged_notebook.ipynb'\n",
    "\n",
    "# Create a new notebook object\n",
    "merged_nb = nbformat.v4.new_notebook()\n",
    "\n",
    "for notebook in notebooks:\n",
    "    with open(notebook, 'r', encoding='utf-8') as f:\n",
    "        nb = nbformat.read(f, as_version=4)\n",
    "        merged_nb.cells.extend(nb.cells)  # Add cells from each notebook\n",
    "\n",
    "# Save the merged notebook\n",
    "with open(output_notebook, 'w', encoding='utf-8') as f:\n",
    "    nbformat.write(merged_nb, f)\n",
    "\n",
    "print(f\"Merged notebook saved as {output_notebook}\")"
   ]
  },
  {
   "cell_type": "code",
   "execution_count": null,
   "id": "4017cbed-ef9b-4b85-b2cb-0a2ee4eae7f6",
   "metadata": {},
   "outputs": [],
   "source": []
  },
  {
   "cell_type": "code",
   "execution_count": null,
   "id": "8deb2c5d-0509-4c34-ad49-f265c33180f4",
   "metadata": {},
   "outputs": [],
   "source": []
  }
 ],
 "metadata": {
  "kernelspec": {
   "display_name": "Python 3 (ipykernel)",
   "language": "python",
   "name": "python3"
  },
  "language_info": {
   "codemirror_mode": {
    "name": "ipython",
    "version": 3
   },
   "file_extension": ".py",
   "mimetype": "text/x-python",
   "name": "python",
   "nbconvert_exporter": "python",
   "pygments_lexer": "ipython3",
   "version": "3.11.7"
  }
 },
 "nbformat": 4,
 "nbformat_minor": 5
}
