{
 "cells": [
  {
   "cell_type": "code",
   "execution_count": null,
   "id": "eb862712-0f0b-4167-a698-16fe9a30b489",
   "metadata": {},
   "outputs": [],
   "source": []
  }
 ],
 "metadata": {
  "kernelspec": {
   "display_name": "",
   "name": ""
  },
  "language_info": {
   "name": ""
  }
 },
 "nbformat": 4,
 "nbformat_minor": 5
}
