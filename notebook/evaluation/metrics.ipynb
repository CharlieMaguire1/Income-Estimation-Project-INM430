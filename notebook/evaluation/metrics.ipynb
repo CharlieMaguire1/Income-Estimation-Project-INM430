{
 "cells": [
  {
   "cell_type": "code",
   "execution_count": null,
   "id": "70677dc4-e103-48e1-b984-8299541ca2dd",
   "metadata": {},
   "outputs": [],
   "source": []
  }
 ],
 "metadata": {
  "kernelspec": {
   "display_name": "",
   "name": ""
  },
  "language_info": {
   "name": ""
  }
 },
 "nbformat": 4,
 "nbformat_minor": 5
}
