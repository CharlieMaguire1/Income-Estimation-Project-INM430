{
 "cells": [
  {
   "cell_type": "code",
   "execution_count": null,
   "id": "8afdb0d7-0d83-4aac-9f71-0c7534b44c1f",
   "metadata": {},
   "outputs": [],
   "source": []
  }
 ],
 "metadata": {
  "kernelspec": {
   "display_name": "",
   "name": ""
  },
  "language_info": {
   "name": ""
  }
 },
 "nbformat": 4,
 "nbformat_minor": 5
}
