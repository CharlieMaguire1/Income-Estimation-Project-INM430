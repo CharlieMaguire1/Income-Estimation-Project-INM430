{
 "cells": [
  {
   "cell_type": "code",
   "execution_count": null,
   "id": "0ebf241f-3b69-4123-9e63-5de7eb738ef3",
   "metadata": {},
   "outputs": [],
   "source": []
  }
 ],
 "metadata": {
  "kernelspec": {
   "display_name": "",
   "name": ""
  },
  "language_info": {
   "name": ""
  }
 },
 "nbformat": 4,
 "nbformat_minor": 5
}
