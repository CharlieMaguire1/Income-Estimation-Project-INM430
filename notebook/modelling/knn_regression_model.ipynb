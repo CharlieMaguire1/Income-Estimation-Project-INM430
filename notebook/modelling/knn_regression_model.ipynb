{
 "cells": [
  {
   "cell_type": "markdown",
   "id": "9d3d3efa-4ecc-498f-8b5a-cabab4f9410b",
   "metadata": {},
   "source": [
    "## KNN Regression Model"
   ]
  },
  {
   "cell_type": "markdown",
   "id": "fd0c9ee9-3876-4b20-b7b1-a0f98979701b",
   "metadata": {},
   "source": [
    " **1st KNN Model**\n",
    " The input configuration is to use all the numeric variables but to leave out the target variable (MSOA income estimate)"
   ]
  },
  {
   "cell_type": "code",
   "execution_count": 8,
   "id": "ce20699a-0429-4ccb-a1ee-5fe8b083bbae",
   "metadata": {},
   "outputs": [],
   "source": [
    "import pandas as pd\n",
    "from sklearn.model_selection import train_test_split\n",
    "from sklearn.neighbors import KNeighborsRegressor\n",
    "from sklearn.metrics import mean_absolute_error, mean_squared_error, r2_score\n",
    "import matplotlib.pyplot as plt\n",
    "import numpy as np\n",
    "import joblib"
   ]
  },
  {
   "cell_type": "code",
   "execution_count": 10,
   "id": "3d35fc46-879c-44cd-9ffa-744eed0554f7",
   "metadata": {},
   "outputs": [
    {
     "name": "stdout",
     "output_type": "stream",
     "text": [
      "Evaluation data saved to ../../data/processed/evaluation_data.csv\n",
      "Model saved to ../../model/knn_model.pkl\n"
     ]
    }
   ],
   "source": [
    "# Loading the preprocessed dataset\n",
    "data_path = '../../data/processed/lsoa_census_standardized.csv'\n",
    "data = pd.read_csv(data_path)\n",
    "\n",
    "# Selecting only numeric columns for features\n",
    "numerical_cols = data.select_dtypes(include=['float64', 'int64']).columns\n",
    "\n",
    "# Ensuring that the target column is excluded from features\n",
    "X = data[numerical_cols].drop(columns=['net_income_after_housing_costs_()'])  # Excluding the target column\n",
    "y = data['net_income_after_housing_costs_()']\n",
    "\n",
    "# Identifying the non-numeric columns:\n",
    "categorical_cols = data.select_dtypes(include=['object']).columns\n",
    "\n",
    "# Drop any categorical columns from the features set X\n",
    "X = X.drop(columns=categorical_cols, errors='ignore')\n",
    "\n",
    "# Splitting data into training and testing sets (70/30 split)\n",
    "X_train, X_test, y_train, y_test = train_test_split(X, y, test_size = 0.3, random_state = 42)\n",
    "\n",
    "# Training the KNN Regressor\n",
    "knn = KNeighborsRegressor(n_neighbors=5)  # Adjust n_neighbors based on optimization\n",
    "knn.fit(X_train, y_train)\n",
    "\n",
    "# Making Predictions\n",
    "y_pred = knn.predict(X_test)\n",
    "\n",
    "# Save Actual and Predicted Values\n",
    "evaluation_data = pd.DataFrame({\n",
    "    'Actual': y_test,\n",
    "    'Predicted': y_pred\n",
    "})\n",
    "\n",
    "evaluation_data_path = '../../data/processed/evaluation_data.csv'\n",
    "evaluation_data.to_csv(evaluation_data_path, index=False)\n",
    "print(f\"Evaluation data saved to {evaluation_data_path}\")\n",
    "\n",
    "# Saving the trained KNN model\n",
    "knn_model_path = '../../model/knn_model.pkl'  # Adjust the path as needed\n",
    "joblib.dump(knn, knn_model_path)\n",
    "print(f\"Model saved to {knn_model_path}\")\n"
   ]
  },
  {
   "cell_type": "markdown",
   "id": "881e2a30-6b39-4f0a-a903-8d77000a3496",
   "metadata": {},
   "source": [
    "- **2nd KNN Model**\n",
    "This is for the dataset after 40+ variables were removed due to low feature importance. I want to see how this performs and whether it will enhance the model. "
   ]
  },
  {
   "cell_type": "code",
   "execution_count": 14,
   "id": "ce0762ce-28bb-4eec-a9b9-935a3f69014f",
   "metadata": {},
   "outputs": [
    {
     "name": "stdout",
     "output_type": "stream",
     "text": [
      "Evaluation data saved to ../../data/processed/evaluation_data_2.csv\n"
     ]
    }
   ],
   "source": [
    "# Loading the preprocessed dataset\n",
    "data_path = '../../data/processed/knn_many_removed.csv'\n",
    "data = pd.read_csv(data_path)\n",
    "\n",
    "# Selecting only numeric columns for features\n",
    "numerical_cols = data.select_dtypes(include=['float64', 'int64']).columns\n",
    "\n",
    "# Ensuring that the target column is excluded from features\n",
    "X = data[numerical_cols].drop(columns=['net_income_after_housing_costs_()'])  # Excluding the target column\n",
    "y = data['net_income_after_housing_costs_()']\n",
    "\n",
    "# Identifying the non-numeric columns:\n",
    "categorical_cols = data.select_dtypes(include=['object']).columns\n",
    "\n",
    "# Drop any categorical columns from the features set X\n",
    "X = X.drop(columns=categorical_cols, errors='ignore')\n",
    "\n",
    "# Splitting data into training and testing sets (70/30 split)\n",
    "X_train, X_test, y_train, y_test = train_test_split(X, y, test_size=0.3, random_state=42)\n",
    "\n",
    "# Training the KNN Regressor\n",
    "knn = KNeighborsRegressor(n_neighbors=5)  # Adjust n_neighbors based on optimization\n",
    "knn.fit(X_train, y_train)\n",
    "\n",
    "# Making Predictions\n",
    "y_pred = knn.predict(X_test)\n",
    "\n",
    "# Save Actual and Predicted Values\n",
    "evaluation_data_2 = pd.DataFrame({\n",
    "    'Actual': y_test,\n",
    "    'Predicted': y_pred\n",
    "})\n",
    "\n",
    "evaluation_data_path_2 = '../../data/processed/evaluation_data_2.csv'\n",
    "evaluation_data_2.to_csv(evaluation_data_path_2, index = False)\n",
    "print(f\"Evaluation data saved to {evaluation_data_path_2}\")"
   ]
  },
  {
   "cell_type": "markdown",
   "id": "4b74ec6d-c522-45bb-9533-d87ae5bd8f89",
   "metadata": {},
   "source": [
    "**3rd KNN Model - Feature Importance After Removing the Confidence Intervals**"
   ]
  },
  {
   "cell_type": "code",
   "execution_count": 16,
   "id": "3b73197d-20fd-4a35-91eb-703ed25639f2",
   "metadata": {},
   "outputs": [
    {
     "name": "stdout",
     "output_type": "stream",
     "text": [
      "Evaluation data saved to ../../data/processed/evaluation_data_3.csv\n"
     ]
    }
   ],
   "source": [
    "# Loading the preprocessed dataset\n",
    "data_path = '../../data/processed/knn_confidence_interval.csv'\n",
    "data = pd.read_csv(data_path)\n",
    "\n",
    "# Selecting only numeric columns for features\n",
    "numerical_cols = data.select_dtypes(include=['float64', 'int64']).columns\n",
    "\n",
    "# Ensuring that the target column is excluded from features\n",
    "X = data[numerical_cols].drop(columns=['net_income_after_housing_costs_()'])  # Excluding the target column\n",
    "y = data['net_income_after_housing_costs_()']\n",
    "\n",
    "# Identifying the non-numeric columns:\n",
    "categorical_cols = data.select_dtypes(include=['object']).columns\n",
    "\n",
    "# Drop any categorical columns from the features set X\n",
    "X = X.drop(columns=categorical_cols, errors='ignore')\n",
    "\n",
    "# Splitting data into training and testing sets (70/30 split)\n",
    "X_train, X_test, y_train, y_test = train_test_split(X, y, test_size= 0.3, random_state= 42)\n",
    "\n",
    "# Training the KNN Regressor\n",
    "knn = KNeighborsRegressor(n_neighbors=5)  # Adjust n_neighbors based on optimization\n",
    "knn.fit(X_train, y_train)\n",
    "\n",
    "# Making Predictions\n",
    "y_pred = knn.predict(X_test)\n",
    "\n",
    "# Save Actual and Predicted Values\n",
    "evaluation_data_3 = pd.DataFrame({\n",
    "    'Actual': y_test,\n",
    "    'Predicted': y_pred\n",
    "})\n",
    "\n",
    "evaluation_data_path_3 = '../../data/processed/evaluation_data_3.csv'\n",
    "evaluation_data_3.to_csv(evaluation_data_path_3, index = False)\n",
    "print(f\"Evaluation data saved to {evaluation_data_path_3}\")"
   ]
  },
  {
   "cell_type": "markdown",
   "id": "2de88ee9-aab5-4a27-81a8-8781ef123fb8",
   "metadata": {},
   "source": [
    "**4th KNN Model - Feature Importance After PCA Analysis**\n",
    "This is where the most of the crime variables were combined, along with most of the educational, race, income support, benefits etc. I noticed that the top two feature importances were closer than all the models before. PCA Analysis looked beneficial in regards to combining variables within the same category. I want to see the evaluation metrics compared with the others, because they perfomed badly compared to the first model (that excluded only the target variable as an input configuration)"
   ]
  },
  {
   "cell_type": "code",
   "execution_count": 7,
   "id": "c18d4135-d8e2-4488-ad81-89dd3b56cbcd",
   "metadata": {},
   "outputs": [
    {
     "name": "stdout",
     "output_type": "stream",
     "text": [
      "Evaluation data saved to ../../data/processed/evaluation_data_4.csv\n"
     ]
    }
   ],
   "source": [
    "# Loading the preprocessed dataset\n",
    "data_path = '../../data/processed/knn_pca.csv'\n",
    "data = pd.read_csv(data_path)\n",
    "\n",
    "# Selecting only numeric columns for features\n",
    "numerical_cols = data.select_dtypes(include=['float64', 'int64']).columns\n",
    "\n",
    "# Ensuring that the target column is excluded from features\n",
    "X = data[numerical_cols].drop(columns=['net_income_after_housing_costs_()'])  # Excluding the target column\n",
    "y = data['net_income_after_housing_costs_()']\n",
    "\n",
    "# Identifying the non-numeric columns:\n",
    "categorical_cols = data.select_dtypes(include=['object']).columns\n",
    "\n",
    "# Drop any categorical columns from the features set X\n",
    "X = X.drop(columns=categorical_cols, errors='ignore')\n",
    "\n",
    "# Splitting data into training and testing sets (70/30 split)\n",
    "X_train, X_test, y_train, y_test = train_test_split(X, y, test_size = 0.3, random_state = 42)\n",
    "\n",
    "# Training the KNN Regressor\n",
    "knn = KNeighborsRegressor(n_neighbors=5)  # Adjust n_neighbors based on optimization\n",
    "knn.fit(X_train, y_train)\n",
    "\n",
    "# Making Predictions\n",
    "y_pred = knn.predict(X_test)\n",
    "\n",
    "# Save Actual and Predicted Values\n",
    "evaluation_data_4 = pd.DataFrame({\n",
    "    'Actual': y_test,\n",
    "    'Predicted': y_pred\n",
    "})\n",
    "\n",
    "evaluation_data_path_4 = '../../data/processed/evaluation_data_4.csv'\n",
    "evaluation_data_4.to_csv(evaluation_data_path_4, index = False)\n",
    "print(f\"Evaluation data saved to {evaluation_data_path_4}\")"
   ]
  },
  {
   "cell_type": "code",
   "execution_count": null,
   "id": "2cd655f3-9cfb-4a91-9280-70d458977655",
   "metadata": {},
   "outputs": [],
   "source": []
  }
 ],
 "metadata": {
  "kernelspec": {
   "display_name": "Python 3 (ipykernel)",
   "language": "python",
   "name": "python3"
  },
  "language_info": {
   "codemirror_mode": {
    "name": "ipython",
    "version": 3
   },
   "file_extension": ".py",
   "mimetype": "text/x-python",
   "name": "python",
   "nbconvert_exporter": "python",
   "pygments_lexer": "ipython3",
   "version": "3.11.7"
  }
 },
 "nbformat": 4,
 "nbformat_minor": 5
}
