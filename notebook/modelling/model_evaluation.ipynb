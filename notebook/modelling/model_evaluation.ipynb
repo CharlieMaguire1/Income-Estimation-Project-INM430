{
 "cells": [
  {
   "cell_type": "code",
   "execution_count": null,
   "id": "5581d4d7-1e69-4dfb-80ef-88cf7b14d7f0",
   "metadata": {},
   "outputs": [],
   "source": []
  }
 ],
 "metadata": {
  "kernelspec": {
   "display_name": "",
   "name": ""
  },
  "language_info": {
   "name": ""
  }
 },
 "nbformat": 4,
 "nbformat_minor": 5
}
